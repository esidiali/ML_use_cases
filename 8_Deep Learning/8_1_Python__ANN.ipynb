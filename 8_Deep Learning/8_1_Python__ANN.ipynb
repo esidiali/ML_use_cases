{
 "cells": [
  {
   "cell_type": "markdown",
   "metadata": {},
   "source": [
    "# Artificial Neural Networks"
   ]
  },
  {
   "cell_type": "code",
   "execution_count": 1,
   "metadata": {},
   "outputs": [],
   "source": [
    "# Installing Theano\n",
    "# pip install --upgrade --no-deps git+git://github.com/Theano/Theano.git\n",
    "\n",
    "# Installing Tensorflow\n",
    "# Install Tensorflow from the website: https://www.tensorflow.org/versions/r0.12/get_started/os_setup.html\n",
    "\n",
    "# Installing Keras\n",
    "# pip install --upgrade keras"
   ]
  },
  {
   "cell_type": "markdown",
   "metadata": {},
   "source": [
    "## PART 1 - DATA PREPROCESSING"
   ]
  },
  {
   "cell_type": "code",
   "execution_count": 2,
   "metadata": {},
   "outputs": [],
   "source": [
    "# Importing the libraries\n",
    "import numpy as np\n",
    "import matplotlib.pyplot as plt\n",
    "import pandas as pd"
   ]
  },
  {
   "cell_type": "code",
   "execution_count": 3,
   "metadata": {},
   "outputs": [],
   "source": [
    "# Importing the dataset\n",
    "dataset = pd.read_csv('Churn_Modelling.csv')"
   ]
  },
  {
   "cell_type": "code",
   "execution_count": 4,
   "metadata": {},
   "outputs": [
    {
     "name": "stdout",
     "output_type": "stream",
     "text": [
      "number of rows: 10000\n",
      "number of columns: 14\n"
     ]
    }
   ],
   "source": [
    "print(\"number of rows: \" + str(len(dataset)) + \"\\nnumber of columns: \" + str(len(dataset.columns)))"
   ]
  },
  {
   "cell_type": "code",
   "execution_count": 5,
   "metadata": {},
   "outputs": [
    {
     "data": {
      "text/html": [
       "<div>\n",
       "<style scoped>\n",
       "    .dataframe tbody tr th:only-of-type {\n",
       "        vertical-align: middle;\n",
       "    }\n",
       "\n",
       "    .dataframe tbody tr th {\n",
       "        vertical-align: top;\n",
       "    }\n",
       "\n",
       "    .dataframe thead th {\n",
       "        text-align: right;\n",
       "    }\n",
       "</style>\n",
       "<table border=\"1\" class=\"dataframe\">\n",
       "  <thead>\n",
       "    <tr style=\"text-align: right;\">\n",
       "      <th></th>\n",
       "      <th>RowNumber</th>\n",
       "      <th>CustomerId</th>\n",
       "      <th>Surname</th>\n",
       "      <th>CreditScore</th>\n",
       "      <th>Geography</th>\n",
       "      <th>Gender</th>\n",
       "      <th>Age</th>\n",
       "      <th>Tenure</th>\n",
       "      <th>Balance</th>\n",
       "      <th>NumOfProducts</th>\n",
       "      <th>HasCrCard</th>\n",
       "      <th>IsActiveMember</th>\n",
       "      <th>EstimatedSalary</th>\n",
       "      <th>Exited</th>\n",
       "    </tr>\n",
       "  </thead>\n",
       "  <tbody>\n",
       "    <tr>\n",
       "      <th>0</th>\n",
       "      <td>1</td>\n",
       "      <td>15634602</td>\n",
       "      <td>Hargrave</td>\n",
       "      <td>619</td>\n",
       "      <td>France</td>\n",
       "      <td>Female</td>\n",
       "      <td>42</td>\n",
       "      <td>2</td>\n",
       "      <td>0.00</td>\n",
       "      <td>1</td>\n",
       "      <td>1</td>\n",
       "      <td>1</td>\n",
       "      <td>101348.88</td>\n",
       "      <td>1</td>\n",
       "    </tr>\n",
       "    <tr>\n",
       "      <th>1</th>\n",
       "      <td>2</td>\n",
       "      <td>15647311</td>\n",
       "      <td>Hill</td>\n",
       "      <td>608</td>\n",
       "      <td>Spain</td>\n",
       "      <td>Female</td>\n",
       "      <td>41</td>\n",
       "      <td>1</td>\n",
       "      <td>83807.86</td>\n",
       "      <td>1</td>\n",
       "      <td>0</td>\n",
       "      <td>1</td>\n",
       "      <td>112542.58</td>\n",
       "      <td>0</td>\n",
       "    </tr>\n",
       "    <tr>\n",
       "      <th>2</th>\n",
       "      <td>3</td>\n",
       "      <td>15619304</td>\n",
       "      <td>Onio</td>\n",
       "      <td>502</td>\n",
       "      <td>France</td>\n",
       "      <td>Female</td>\n",
       "      <td>42</td>\n",
       "      <td>8</td>\n",
       "      <td>159660.80</td>\n",
       "      <td>3</td>\n",
       "      <td>1</td>\n",
       "      <td>0</td>\n",
       "      <td>113931.57</td>\n",
       "      <td>1</td>\n",
       "    </tr>\n",
       "    <tr>\n",
       "      <th>3</th>\n",
       "      <td>4</td>\n",
       "      <td>15701354</td>\n",
       "      <td>Boni</td>\n",
       "      <td>699</td>\n",
       "      <td>France</td>\n",
       "      <td>Female</td>\n",
       "      <td>39</td>\n",
       "      <td>1</td>\n",
       "      <td>0.00</td>\n",
       "      <td>2</td>\n",
       "      <td>0</td>\n",
       "      <td>0</td>\n",
       "      <td>93826.63</td>\n",
       "      <td>0</td>\n",
       "    </tr>\n",
       "    <tr>\n",
       "      <th>4</th>\n",
       "      <td>5</td>\n",
       "      <td>15737888</td>\n",
       "      <td>Mitchell</td>\n",
       "      <td>850</td>\n",
       "      <td>Spain</td>\n",
       "      <td>Female</td>\n",
       "      <td>43</td>\n",
       "      <td>2</td>\n",
       "      <td>125510.82</td>\n",
       "      <td>1</td>\n",
       "      <td>1</td>\n",
       "      <td>1</td>\n",
       "      <td>79084.10</td>\n",
       "      <td>0</td>\n",
       "    </tr>\n",
       "  </tbody>\n",
       "</table>\n",
       "</div>"
      ],
      "text/plain": [
       "   RowNumber  CustomerId   Surname  CreditScore Geography  Gender  Age  \\\n",
       "0          1    15634602  Hargrave          619    France  Female   42   \n",
       "1          2    15647311      Hill          608     Spain  Female   41   \n",
       "2          3    15619304      Onio          502    France  Female   42   \n",
       "3          4    15701354      Boni          699    France  Female   39   \n",
       "4          5    15737888  Mitchell          850     Spain  Female   43   \n",
       "\n",
       "   Tenure    Balance  NumOfProducts  HasCrCard  IsActiveMember  \\\n",
       "0       2       0.00              1          1               1   \n",
       "1       1   83807.86              1          0               1   \n",
       "2       8  159660.80              3          1               0   \n",
       "3       1       0.00              2          0               0   \n",
       "4       2  125510.82              1          1               1   \n",
       "\n",
       "   EstimatedSalary  Exited  \n",
       "0        101348.88       1  \n",
       "1        112542.58       0  \n",
       "2        113931.57       1  \n",
       "3         93826.63       0  \n",
       "4         79084.10       0  "
      ]
     },
     "execution_count": 5,
     "metadata": {},
     "output_type": "execute_result"
    }
   ],
   "source": [
    "dataset.head()"
   ]
  },
  {
   "cell_type": "markdown",
   "metadata": {},
   "source": [
    "#### the goal here is to predict if a customer/client of a bank will leave (exited column) or not\n",
    "#### [3:13[  independent variables (first two columns aren't important), variable to predict column Exited [, 13]"
   ]
  },
  {
   "cell_type": "code",
   "execution_count": 6,
   "metadata": {},
   "outputs": [],
   "source": [
    "X = dataset.iloc[:, 3:13].values\n",
    "y = dataset.iloc[:, 13].values"
   ]
  },
  {
   "cell_type": "code",
   "execution_count": 7,
   "metadata": {},
   "outputs": [
    {
     "data": {
      "text/plain": [
       "array([[619, 'France', 'Female', 42, 2, 0.0, 1, 1, 1, 101348.88],\n",
       "       [608, 'Spain', 'Female', 41, 1, 83807.86, 1, 0, 1, 112542.58],\n",
       "       [502, 'France', 'Female', 42, 8, 159660.8, 3, 1, 0, 113931.57],\n",
       "       [699, 'France', 'Female', 39, 1, 0.0, 2, 0, 0, 93826.63],\n",
       "       [850, 'Spain', 'Female', 43, 2, 125510.82, 1, 1, 1, 79084.1]],\n",
       "      dtype=object)"
      ]
     },
     "execution_count": 7,
     "metadata": {},
     "output_type": "execute_result"
    }
   ],
   "source": [
    "X[0:5]"
   ]
  },
  {
   "cell_type": "code",
   "execution_count": 11,
   "metadata": {},
   "outputs": [],
   "source": [
    "# Encoding categorical data\n",
    "from sklearn.preprocessing import LabelEncoder, OneHotEncoder\n",
    "labelencoder_X_1 = LabelEncoder()\n",
    "X[:, 1] = labelencoder_X_1.fit_transform(X[:, 1])\n",
    "labelencoder_X_2 = LabelEncoder()\n",
    "X[:, 2] = labelencoder_X_2.fit_transform(X[:, 1])\n",
    "\n",
    "onehotencoder = OneHotEncoder(categorical_features=[1])\n",
    "X = onehotencoder.fit_transform(X).toarray()\n"
   ]
  },
  {
   "cell_type": "code",
   "execution_count": 13,
   "metadata": {},
   "outputs": [
    {
     "data": {
      "text/plain": [
       "array([[1.0000000e+00, 0.0000000e+00, 0.0000000e+00, 6.1900000e+02,\n",
       "        0.0000000e+00, 4.2000000e+01, 2.0000000e+00, 0.0000000e+00,\n",
       "        1.0000000e+00, 1.0000000e+00, 1.0000000e+00, 1.0134888e+05],\n",
       "       [0.0000000e+00, 0.0000000e+00, 1.0000000e+00, 6.0800000e+02,\n",
       "        2.0000000e+00, 4.1000000e+01, 1.0000000e+00, 8.3807860e+04,\n",
       "        1.0000000e+00, 0.0000000e+00, 1.0000000e+00, 1.1254258e+05],\n",
       "       [1.0000000e+00, 0.0000000e+00, 0.0000000e+00, 5.0200000e+02,\n",
       "        0.0000000e+00, 4.2000000e+01, 8.0000000e+00, 1.5966080e+05,\n",
       "        3.0000000e+00, 1.0000000e+00, 0.0000000e+00, 1.1393157e+05]])"
      ]
     },
     "execution_count": 13,
     "metadata": {},
     "output_type": "execute_result"
    }
   ],
   "source": [
    "X[0:3]"
   ]
  },
  {
   "cell_type": "markdown",
   "metadata": {},
   "source": [
    "### avoid the dummy variable trap, we need to remove one dummy variable (the 1st for example)"
   ]
  },
  {
   "cell_type": "code",
   "execution_count": 14,
   "metadata": {},
   "outputs": [],
   "source": [
    "X = X[:, 1:]"
   ]
  },
  {
   "cell_type": "code",
   "execution_count": 16,
   "metadata": {},
   "outputs": [
    {
     "data": {
      "text/plain": [
       "array([[0.0000000e+00, 0.0000000e+00, 6.1900000e+02, 0.0000000e+00,\n",
       "        4.2000000e+01, 2.0000000e+00, 0.0000000e+00, 1.0000000e+00,\n",
       "        1.0000000e+00, 1.0000000e+00, 1.0134888e+05],\n",
       "       [0.0000000e+00, 1.0000000e+00, 6.0800000e+02, 2.0000000e+00,\n",
       "        4.1000000e+01, 1.0000000e+00, 8.3807860e+04, 1.0000000e+00,\n",
       "        0.0000000e+00, 1.0000000e+00, 1.1254258e+05]])"
      ]
     },
     "execution_count": 16,
     "metadata": {},
     "output_type": "execute_result"
    }
   ],
   "source": [
    "X[0:2]"
   ]
  },
  {
   "cell_type": "code",
   "execution_count": 26,
   "metadata": {},
   "outputs": [
    {
     "name": "stdout",
     "output_type": "stream",
     "text": [
      "number of independent variables (NN's nodes): 11\n"
     ]
    }
   ],
   "source": [
    "print( \"number of independent variables (NN's nodes): \" + str(X.shape[1]))"
   ]
  },
  {
   "cell_type": "markdown",
   "metadata": {},
   "source": [
    "### Splitting the dataset into the Training set and Test set"
   ]
  },
  {
   "cell_type": "code",
   "execution_count": 17,
   "metadata": {},
   "outputs": [],
   "source": [
    "from sklearn.model_selection import train_test_split\n",
    "X_train, X_test, y_train, y_test = train_test_split(X, y, test_size = 0.2, random_state = 0)"
   ]
  },
  {
   "cell_type": "markdown",
   "metadata": {},
   "source": [
    "### Feature Scaling  ( we gonna apply a lot of computations, and we don't want a variable dominating others)"
   ]
  },
  {
   "cell_type": "code",
   "execution_count": 18,
   "metadata": {},
   "outputs": [],
   "source": [
    "from sklearn.preprocessing import StandardScaler\n",
    "sc = StandardScaler()\n",
    "X_train = sc.fit_transform(X_train)\n",
    "X_test = sc.transform(X_test)"
   ]
  },
  {
   "cell_type": "code",
   "execution_count": null,
   "metadata": {},
   "outputs": [],
   "source": []
  },
  {
   "cell_type": "markdown",
   "metadata": {},
   "source": [
    "## Part 2 - Now let's make the ANN!"
   ]
  },
  {
   "cell_type": "markdown",
   "metadata": {},
   "source": [
    "### Importing the Keras libraries and packages"
   ]
  },
  {
   "cell_type": "code",
   "execution_count": 19,
   "metadata": {},
   "outputs": [
    {
     "name": "stderr",
     "output_type": "stream",
     "text": [
      "C:\\Users\\EL MAHDI\\Anaconda3\\lib\\site-packages\\h5py\\__init__.py:36: FutureWarning: Conversion of the second argument of issubdtype from `float` to `np.floating` is deprecated. In future, it will be treated as `np.float64 == np.dtype(float).type`.\n",
      "  from ._conv import register_converters as _register_converters\n",
      "Using TensorFlow backend.\n"
     ]
    }
   ],
   "source": [
    "import keras\n",
    "from keras.models import Sequential ## required to initialize our neural network\n",
    "from keras.layers import Dense  ## required to build layers of our NN"
   ]
  },
  {
   "cell_type": "markdown",
   "metadata": {},
   "source": [
    "### Initialising the ANN: defining the sequence of layers (another way is defining a graph)\n",
    "https://keras.io/models/sequential/"
   ]
  },
  {
   "cell_type": "code",
   "execution_count": 20,
   "metadata": {},
   "outputs": [],
   "source": [
    "classifier = Sequential()\n",
    "## we won't put any arguments here because we will define the layers step by step afterwards"
   ]
  },
  {
   "cell_type": "markdown",
   "metadata": {},
   "source": [
    "### Adding the input layer and the first hidden layer"
   ]
  },
  {
   "cell_type": "markdown",
   "metadata": {},
   "source": [
    "###### we will initialize the weights with values close to zero, using the Dense module\n",
    "https://keras.io/layers/core/"
   ]
  },
  {
   "cell_type": "code",
   "execution_count": 28,
   "metadata": {},
   "outputs": [],
   "source": [
    "###### Arguments\n",
    "###### units: Positive integer, dimensionality of the output space.\n",
    "###### activation: Activation function to use (see activations). If you don't specify anything, no activation is applied\n",
    "####   (ie. \"linear\" activation: a(x) = x).\n",
    "###### use_bias: Boolean, whether the layer uses a bias vector.\n",
    "###### kernel_initializer: Initializer for the kernel weights matrix (see initializers).\n",
    "###### bias_initializer: Initializer for the bias vector (see initializers).\n",
    "###### kernel_regularizer: Regularizer function applied to the kernel weights matrix (see regularizer).\n",
    "###### bias_regularizer: Regularizer function applied to the bias vector (see regularizer).\n",
    "###### activity_regularizer: Regularizer function applied to the output of the layer (its \"activation\"). (see regularizer).\n",
    "###### kernel_constraint: Constraint function applied to the kernel weights matrix (see constraints).\n",
    "###### bias_constraint: Constraint function applied to the bias vector (see constraints)."
   ]
  },
  {
   "cell_type": "code",
   "execution_count": 30,
   "metadata": {},
   "outputs": [],
   "source": [
    "## we choose the number of nodes in the hidden layer as the average of the number of nodes in the input layer and the number of \n",
    "## nodes in the output layer (a+b)/2. if we want to be artists what we have to do is experimenting with\n",
    "## a technique called parameter tuning. \n",
    "## here we have 11 nodes in input layer (independent variables) and one node (one output y), so (11+1)/2= 6 \n",
    "## the activation function for the hidden layer will be \"rectifier\" function called \"relu\" in keras and the sigmoid activation \n",
    "## function for the output layer."
   ]
  },
  {
   "cell_type": "code",
   "execution_count": 33,
   "metadata": {},
   "outputs": [],
   "source": [
    "## example of dense: keras.layers.Dense(units, activation=None, use_bias=True, kernel_initializer='glorot_uniform', \n",
    "## bias_initializer='zeros', kernel_regularizer=None, bias_regularizer=None, activity_regularizer=None, kernel_constraint=None, \n",
    "## bias_constraint=None)\n",
    "## input_dim must be added too"
   ]
  },
  {
   "cell_type": "code",
   "execution_count": 32,
   "metadata": {},
   "outputs": [],
   "source": [
    "classifier.add(Dense(units = 6, kernel_initializer = 'uniform', activation = 'relu', input_dim = 11))"
   ]
  },
  {
   "cell_type": "markdown",
   "metadata": {},
   "source": [
    "### Adding the second hidden layer"
   ]
  },
  {
   "cell_type": "code",
   "execution_count": 34,
   "metadata": {},
   "outputs": [],
   "source": [
    "classifier.add(Dense(units = 6, kernel_initializer = 'uniform', activation = 'relu'))"
   ]
  },
  {
   "cell_type": "markdown",
   "metadata": {},
   "source": [
    "### Adding the output layer"
   ]
  },
  {
   "cell_type": "code",
   "execution_count": 35,
   "metadata": {},
   "outputs": [],
   "source": [
    "classifier.add(Dense(units = 1, kernel_initializer = 'uniform', activation = 'sigmoid'))\n",
    "## if we re dealing with a problem with an output of 3 categories so the units = 3, activation = 'soft max = sigmoid(>2 class)'"
   ]
  },
  {
   "cell_type": "markdown",
   "metadata": {},
   "source": [
    "### Compiling the ANN\n",
    "\n",
    "###### compile the whole artificial neural network  is basically applying stochastic gradient descent on the whole ANN.\n",
    "###### if the dependent variable has a binary outcome then loss function is called binary_crossentropy. And if the dependent variable has more than two outcomes like three categories then th loss function is called categorical_crossentropy."
   ]
  },
  {
   "cell_type": "code",
   "execution_count": 36,
   "metadata": {},
   "outputs": [],
   "source": [
    "classifier.compile(optimizer = 'adam',  loss = 'binary_crossentropy', metrics = ['accuracy'])\n",
    "## optimizer name of the gradient descent algorithm\n",
    "## loss the loss function that will be used to optimize the weights \n",
    "## metrics: List of metrics to be evaluated by the model during training and testing"
   ]
  },
  {
   "cell_type": "markdown",
   "metadata": {},
   "source": [
    "### Fitting the ANN to the Training set\n",
    "\n",
    "###### fit(x=None, y=None, batch_size=None, epochs=1, verbose=1, callbacks=None, validation_split=0.0, validation_data=None, shuffle=True, class_weight=None, sample_weight=None, initial_epoch=0, steps_per_epoch=None, validation_steps=None)\n",
    "\n",
    "###### batch_size: is the number of observations after which we want to update the weights.\n",
    "###### epochs: Number of epochs to train the model. An epoch is an iteration over the entire x and y data provided\n",
    "\n",
    "###### to choose we need to experiment but here we gonna choose some significant values"
   ]
  },
  {
   "cell_type": "code",
   "execution_count": 37,
   "metadata": {},
   "outputs": [
    {
     "name": "stdout",
     "output_type": "stream",
     "text": [
      "Epoch 1/100\n",
      "8000/8000 [==============================] - 4s 561us/step - loss: 0.4938 - acc: 0.7957\n",
      "Epoch 2/100\n",
      "8000/8000 [==============================] - 1s 123us/step - loss: 0.4350 - acc: 0.7960\n",
      "Epoch 3/100\n",
      "8000/8000 [==============================] - 1s 125us/step - loss: 0.4310 - acc: 0.7960\n",
      "Epoch 4/100\n",
      "8000/8000 [==============================] - 1s 126us/step - loss: 0.4269 - acc: 0.8020\n",
      "Epoch 5/100\n",
      "8000/8000 [==============================] - 1s 153us/step - loss: 0.4238 - acc: 0.8234\n",
      "Epoch 6/100\n",
      "8000/8000 [==============================] - 1s 164us/step - loss: 0.4209 - acc: 0.8252\n",
      "Epoch 7/100\n",
      "8000/8000 [==============================] - 1s 146us/step - loss: 0.4192 - acc: 0.8291\n",
      "Epoch 8/100\n",
      "8000/8000 [==============================] - 1s 145us/step - loss: 0.4175 - acc: 0.8305\n",
      "Epoch 9/100\n",
      "8000/8000 [==============================] - 1s 117us/step - loss: 0.4162 - acc: 0.8307\n",
      "Epoch 10/100\n",
      "8000/8000 [==============================] - 1s 117us/step - loss: 0.4150 - acc: 0.8321\n",
      "Epoch 11/100\n",
      "8000/8000 [==============================] - 1s 124us/step - loss: 0.4138 - acc: 0.8320\n",
      "Epoch 12/100\n",
      "8000/8000 [==============================] - 1s 120us/step - loss: 0.4137 - acc: 0.8324\n",
      "Epoch 13/100\n",
      "8000/8000 [==============================] - 1s 119us/step - loss: 0.4125 - acc: 0.8330\n",
      "Epoch 14/100\n",
      "8000/8000 [==============================] - 1s 123us/step - loss: 0.4118 - acc: 0.8341\n",
      "Epoch 15/100\n",
      "8000/8000 [==============================] - 1s 143us/step - loss: 0.4116 - acc: 0.8341\n",
      "Epoch 16/100\n",
      "8000/8000 [==============================] - 1s 115us/step - loss: 0.4110 - acc: 0.8322\n",
      "Epoch 17/100\n",
      "8000/8000 [==============================] - 1s 120us/step - loss: 0.4107 - acc: 0.8339\n",
      "Epoch 18/100\n",
      "8000/8000 [==============================] - 1s 120us/step - loss: 0.4101 - acc: 0.8332\n",
      "Epoch 19/100\n",
      "8000/8000 [==============================] - 1s 111us/step - loss: 0.4096 - acc: 0.8349\n",
      "Epoch 20/100\n",
      "8000/8000 [==============================] - 1s 142us/step - loss: 0.4092 - acc: 0.8332\n",
      "Epoch 21/100\n",
      "8000/8000 [==============================] - 1s 139us/step - loss: 0.4092 - acc: 0.8336\n",
      "Epoch 22/100\n",
      "8000/8000 [==============================] - 1s 155us/step - loss: 0.4088 - acc: 0.8337\n",
      "Epoch 23/100\n",
      "8000/8000 [==============================] - 1s 139us/step - loss: 0.4087 - acc: 0.8334\n",
      "Epoch 24/100\n",
      "8000/8000 [==============================] - 1s 118us/step - loss: 0.4089 - acc: 0.8337\n",
      "Epoch 25/100\n",
      "8000/8000 [==============================] - 1s 122us/step - loss: 0.4084 - acc: 0.8352\n",
      "Epoch 26/100\n",
      "8000/8000 [==============================] - 1s 138us/step - loss: 0.4081 - acc: 0.8335\n",
      "Epoch 27/100\n",
      "8000/8000 [==============================] - 1s 131us/step - loss: 0.4080 - acc: 0.8331\n",
      "Epoch 28/100\n",
      "8000/8000 [==============================] - 1s 123us/step - loss: 0.4079 - acc: 0.8340\n",
      "Epoch 29/100\n",
      "8000/8000 [==============================] - 1s 119us/step - loss: 0.4080 - acc: 0.8331\n",
      "Epoch 30/100\n",
      "8000/8000 [==============================] - 1s 121us/step - loss: 0.4079 - acc: 0.8325\n",
      "Epoch 31/100\n",
      "8000/8000 [==============================] - 1s 125us/step - loss: 0.4076 - acc: 0.8326\n",
      "Epoch 32/100\n",
      "8000/8000 [==============================] - 1s 109us/step - loss: 0.4074 - acc: 0.8329\n",
      "Epoch 33/100\n",
      "8000/8000 [==============================] - 1s 115us/step - loss: 0.4072 - acc: 0.8320\n",
      "Epoch 34/100\n",
      "8000/8000 [==============================] - 1s 136us/step - loss: 0.4072 - acc: 0.8334\n",
      "Epoch 35/100\n",
      "8000/8000 [==============================] - 1s 121us/step - loss: 0.4075 - acc: 0.8340\n",
      "Epoch 36/100\n",
      "8000/8000 [==============================] - 1s 148us/step - loss: 0.4074 - acc: 0.8334\n",
      "Epoch 37/100\n",
      "8000/8000 [==============================] - 1s 134us/step - loss: 0.4075 - acc: 0.8339\n",
      "Epoch 38/100\n",
      "8000/8000 [==============================] - 1s 122us/step - loss: 0.4074 - acc: 0.8346\n",
      "Epoch 39/100\n",
      "8000/8000 [==============================] - 1s 117us/step - loss: 0.4074 - acc: 0.8342\n",
      "Epoch 40/100\n",
      "8000/8000 [==============================] - 1s 112us/step - loss: 0.4071 - acc: 0.8334\n",
      "Epoch 41/100\n",
      "8000/8000 [==============================] - 1s 112us/step - loss: 0.4073 - acc: 0.8332\n",
      "Epoch 42/100\n",
      "8000/8000 [==============================] - 1s 110us/step - loss: 0.4071 - acc: 0.8327\n",
      "Epoch 43/100\n",
      "8000/8000 [==============================] - 1s 113us/step - loss: 0.4067 - acc: 0.8332\n",
      "Epoch 44/100\n",
      "8000/8000 [==============================] - 1s 109us/step - loss: 0.4072 - acc: 0.8329\n",
      "Epoch 45/100\n",
      "8000/8000 [==============================] - 1s 110us/step - loss: 0.4071 - acc: 0.8342\n",
      "Epoch 46/100\n",
      "8000/8000 [==============================] - 1s 112us/step - loss: 0.4067 - acc: 0.8339\n",
      "Epoch 47/100\n",
      "8000/8000 [==============================] - 1s 111us/step - loss: 0.4068 - acc: 0.8335\n",
      "Epoch 48/100\n",
      "8000/8000 [==============================] - 1s 112us/step - loss: 0.4070 - acc: 0.8340\n",
      "Epoch 49/100\n",
      "8000/8000 [==============================] - 1s 112us/step - loss: 0.4066 - acc: 0.8341\n",
      "Epoch 50/100\n",
      "8000/8000 [==============================] - 1s 111us/step - loss: 0.4073 - acc: 0.8340\n",
      "Epoch 51/100\n",
      "8000/8000 [==============================] - 1s 110us/step - loss: 0.4070 - acc: 0.8334\n",
      "Epoch 52/100\n",
      "8000/8000 [==============================] - 1s 113us/step - loss: 0.4063 - acc: 0.8349\n",
      "Epoch 53/100\n",
      "8000/8000 [==============================] - 1s 122us/step - loss: 0.4067 - acc: 0.8337\n",
      "Epoch 54/100\n",
      "8000/8000 [==============================] - 1s 134us/step - loss: 0.4069 - acc: 0.8347\n",
      "Epoch 55/100\n",
      "8000/8000 [==============================] - 1s 121us/step - loss: 0.4067 - acc: 0.8322\n",
      "Epoch 56/100\n",
      "8000/8000 [==============================] - 1s 116us/step - loss: 0.4066 - acc: 0.8327\n",
      "Epoch 57/100\n",
      "8000/8000 [==============================] - 1s 112us/step - loss: 0.4065 - acc: 0.8341\n",
      "Epoch 58/100\n",
      "8000/8000 [==============================] - 1s 109us/step - loss: 0.4067 - acc: 0.8332\n",
      "Epoch 59/100\n",
      "8000/8000 [==============================] - 1s 110us/step - loss: 0.4066 - acc: 0.8344\n",
      "Epoch 60/100\n",
      "8000/8000 [==============================] - 1s 111us/step - loss: 0.4069 - acc: 0.8335\n",
      "Epoch 61/100\n",
      "8000/8000 [==============================] - 1s 110us/step - loss: 0.4066 - acc: 0.8331\n",
      "Epoch 62/100\n",
      "8000/8000 [==============================] - 1s 109us/step - loss: 0.4065 - acc: 0.8326\n",
      "Epoch 63/100\n",
      "8000/8000 [==============================] - 1s 110us/step - loss: 0.4064 - acc: 0.8331\n",
      "Epoch 64/100\n",
      "8000/8000 [==============================] - 1s 111us/step - loss: 0.4066 - acc: 0.8326\n",
      "Epoch 65/100\n",
      "8000/8000 [==============================] - 1s 110us/step - loss: 0.4065 - acc: 0.8341\n",
      "Epoch 66/100\n",
      "8000/8000 [==============================] - 1s 110us/step - loss: 0.4057 - acc: 0.8340\n",
      "Epoch 67/100\n",
      "8000/8000 [==============================] - 1s 124us/step - loss: 0.4062 - acc: 0.8332\n",
      "Epoch 68/100\n",
      "8000/8000 [==============================] - 1s 136us/step - loss: 0.4060 - acc: 0.8330\n",
      "Epoch 69/100\n",
      "8000/8000 [==============================] - 1s 162us/step - loss: 0.4063 - acc: 0.8344\n",
      "Epoch 70/100\n",
      "8000/8000 [==============================] - 1s 156us/step - loss: 0.4060 - acc: 0.8327\n",
      "Epoch 71/100\n",
      "8000/8000 [==============================] - 1s 167us/step - loss: 0.4063 - acc: 0.8326\n",
      "Epoch 72/100\n",
      "8000/8000 [==============================] - 1s 155us/step - loss: 0.4060 - acc: 0.8341\n",
      "Epoch 73/100\n",
      "8000/8000 [==============================] - 1s 159us/step - loss: 0.4056 - acc: 0.8331\n",
      "Epoch 74/100\n",
      "8000/8000 [==============================] - 1s 132us/step - loss: 0.4056 - acc: 0.8335\n",
      "Epoch 75/100\n",
      "8000/8000 [==============================] - 1s 139us/step - loss: 0.4059 - acc: 0.8329\n",
      "Epoch 76/100\n",
      "8000/8000 [==============================] - 1s 126us/step - loss: 0.4063 - acc: 0.8331\n",
      "Epoch 77/100\n",
      "8000/8000 [==============================] - 1s 125us/step - loss: 0.4059 - acc: 0.8334\n",
      "Epoch 78/100\n",
      "8000/8000 [==============================] - 1s 122us/step - loss: 0.4059 - acc: 0.8327\n",
      "Epoch 79/100\n",
      "8000/8000 [==============================] - 1s 139us/step - loss: 0.4057 - acc: 0.8352\n",
      "Epoch 80/100\n",
      "8000/8000 [==============================] - 1s 131us/step - loss: 0.4057 - acc: 0.8326\n",
      "Epoch 81/100\n",
      "8000/8000 [==============================] - 1s 139us/step - loss: 0.4056 - acc: 0.8351\n",
      "Epoch 82/100\n"
     ]
    },
    {
     "name": "stdout",
     "output_type": "stream",
     "text": [
      "8000/8000 [==============================] - 1s 118us/step - loss: 0.4051 - acc: 0.8346\n",
      "Epoch 83/100\n",
      "8000/8000 [==============================] - 1s 120us/step - loss: 0.4047 - acc: 0.8334\n",
      "Epoch 84/100\n",
      "8000/8000 [==============================] - 1s 130us/step - loss: 0.4047 - acc: 0.8337\n",
      "Epoch 85/100\n",
      "8000/8000 [==============================] - 1s 160us/step - loss: 0.4047 - acc: 0.8342\n",
      "Epoch 86/100\n",
      "8000/8000 [==============================] - 1s 148us/step - loss: 0.4039 - acc: 0.8344\n",
      "Epoch 87/100\n",
      "8000/8000 [==============================] - 1s 141us/step - loss: 0.4035 - acc: 0.8330\n",
      "Epoch 88/100\n",
      "8000/8000 [==============================] - 1s 120us/step - loss: 0.4035 - acc: 0.8356\n",
      "Epoch 89/100\n",
      "8000/8000 [==============================] - 1s 117us/step - loss: 0.4032 - acc: 0.8340\n",
      "Epoch 90/100\n",
      "8000/8000 [==============================] - 1s 151us/step - loss: 0.4035 - acc: 0.8336\n",
      "Epoch 91/100\n",
      "8000/8000 [==============================] - 1s 162us/step - loss: 0.4032 - acc: 0.8351\n",
      "Epoch 92/100\n",
      "8000/8000 [==============================] - 1s 135us/step - loss: 0.4026 - acc: 0.8346\n",
      "Epoch 93/100\n",
      "8000/8000 [==============================] - 1s 130us/step - loss: 0.4023 - acc: 0.8359\n",
      "Epoch 94/100\n",
      "8000/8000 [==============================] - 1s 123us/step - loss: 0.4020 - acc: 0.8340\n",
      "Epoch 95/100\n",
      "8000/8000 [==============================] - 1s 157us/step - loss: 0.4016 - acc: 0.8349\n",
      "Epoch 96/100\n",
      "8000/8000 [==============================] - 1s 133us/step - loss: 0.4015 - acc: 0.8349\n",
      "Epoch 97/100\n",
      "8000/8000 [==============================] - 1s 128us/step - loss: 0.4018 - acc: 0.8332\n",
      "Epoch 98/100\n",
      "8000/8000 [==============================] - 1s 119us/step - loss: 0.4011 - acc: 0.8349\n",
      "Epoch 99/100\n",
      "8000/8000 [==============================] - 1s 150us/step - loss: 0.4012 - acc: 0.8336\n",
      "Epoch 100/100\n",
      "8000/8000 [==============================] - 1s 155us/step - loss: 0.4008 - acc: 0.8342\n"
     ]
    },
    {
     "data": {
      "text/plain": [
       "<keras.callbacks.History at 0x2349cd04ac8>"
      ]
     },
     "execution_count": 37,
     "metadata": {},
     "output_type": "execute_result"
    }
   ],
   "source": [
    "classifier.fit(X_train, y_train, batch_size = 10, epochs = 100)"
   ]
  },
  {
   "cell_type": "markdown",
   "metadata": {},
   "source": [
    "Accuracy of 83%"
   ]
  },
  {
   "cell_type": "markdown",
   "metadata": {},
   "source": [
    "### Part 3 - Making the predictions and evaluating the model"
   ]
  },
  {
   "cell_type": "code",
   "execution_count": 39,
   "metadata": {},
   "outputs": [
    {
     "data": {
      "text/plain": [
       "array([[0.13963003],\n",
       "       [0.2863777 ],\n",
       "       [0.10518845],\n",
       "       ...,\n",
       "       [0.2673705 ],\n",
       "       [0.15926984],\n",
       "       [0.15023522]], dtype=float32)"
      ]
     },
     "execution_count": 39,
     "metadata": {},
     "output_type": "execute_result"
    }
   ],
   "source": [
    "# Predicting the Test set results\n",
    "y_pred = classifier.predict(X_test)\n",
    "y_pred"
   ]
  },
  {
   "cell_type": "markdown",
   "metadata": {},
   "source": [
    "###### it as an array of probabilities, whether the customer will leave or not the  bank.\n",
    "\n",
    "###### in order to use this confusion matrix we don't need the probabilities but we need the predicted results in the form: True or false. So we just need to do a little something to convert these probabilities into the predicted results in the form (1,0). And to do this we need to choose a threshold to decide when the predicted result is one and when the predicted result is zero. So we predict one over the threshold and we predict zero below the threshold. And of course a natural threshold to take is 0.5 50%."
   ]
  },
  {
   "cell_type": "code",
   "execution_count": 40,
   "metadata": {},
   "outputs": [
    {
     "data": {
      "text/plain": [
       "array([[False],\n",
       "       [False],\n",
       "       [False],\n",
       "       ...,\n",
       "       [False],\n",
       "       [False],\n",
       "       [False]])"
      ]
     },
     "execution_count": 40,
     "metadata": {},
     "output_type": "execute_result"
    }
   ],
   "source": [
    "y_pred = (y_pred > 0.5)\n",
    "y_pred"
   ]
  },
  {
   "cell_type": "code",
   "execution_count": 41,
   "metadata": {},
   "outputs": [
    {
     "data": {
      "text/plain": [
       "array([[1550,   45],\n",
       "       [ 270,  135]], dtype=int64)"
      ]
     },
     "execution_count": 41,
     "metadata": {},
     "output_type": "execute_result"
    }
   ],
   "source": [
    "# Making the Confusion Matrix\n",
    "from sklearn.metrics import confusion_matrix\n",
    "cm = confusion_matrix(y_test, y_pred)\n",
    "cm"
   ]
  },
  {
   "cell_type": "code",
   "execution_count": 44,
   "metadata": {},
   "outputs": [
    {
     "name": "stdout",
     "output_type": "stream",
     "text": [
      "accuracy: 84.25%\n"
     ]
    }
   ],
   "source": [
    "print(\"accuracy: \" + str(((1550+135)/2000)*100)+\"%\")"
   ]
  },
  {
   "cell_type": "markdown",
   "metadata": {},
   "source": [
    "well 84.25% of accuracy on new data, compared to 83% on the training set. an excellent result without being an artist, means without any paramter tunning"
   ]
  }
 ],
 "metadata": {
  "kernelspec": {
   "display_name": "Python 3",
   "language": "python",
   "name": "python3"
  },
  "language_info": {
   "codemirror_mode": {
    "name": "ipython",
    "version": 3
   },
   "file_extension": ".py",
   "mimetype": "text/x-python",
   "name": "python",
   "nbconvert_exporter": "python",
   "pygments_lexer": "ipython3",
   "version": "3.6.5"
  }
 },
 "nbformat": 4,
 "nbformat_minor": 2
}
